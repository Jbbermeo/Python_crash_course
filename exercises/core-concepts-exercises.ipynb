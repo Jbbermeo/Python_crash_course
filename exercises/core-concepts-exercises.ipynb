{
 "cells": [
  {
   "cell_type": "markdown",
   "metadata": {},
   "source": [
    "# 🏆 Python Core Concepts - Step-by-Step Exercise\n",
    "\n",
    "## 📌 Objective\n",
    "This Jupyter Notebook will guide you through a problem where you will apply fundamental Python concepts such as:\n",
    "- Data types and structures\n",
    "- Mutable and immutable objects\n",
    "- Functions and variable scope\n",
    "- *args and **kwargs\n",
    "- Keywords and exception handling\n",
    "- Iterators and generators\n",
    "- List comprehensions and lambda functions\n",
    "- Decorators\n",
    "- Modules and packages\n",
    "- File handling\n",
    "- Context managers\n",
    "\n",
    "By the end, you will have built a **simple data processing tool** using all these concepts.\n",
    "\n",
    "---\n",
    "\n",
    "## 📝 How to Use this Notebook\n",
    "1. Run each code cell step by step.\n",
    "2. Read the comments carefully to understand each concept.\n",
    "3. Modify and experiment with the code to test your understanding.\n",
    "4. Ensure you have **Python 3.x** installed and Jupyter Notebook set up.\n",
    "\n",
    "Let's get started!"
   ]
  },
  {
   "cell_type": "code",
   "execution_count": 1,
   "metadata": {},
   "outputs": [],
   "source": [
    "# 📌 Step 1: Import Necessary Modules\n",
    "import json\n",
    "import os\n",
    "from typing import List, Dict"
   ]
  },
  {
   "cell_type": "code",
   "execution_count": 2,
   "metadata": {},
   "outputs": [],
   "source": [
    "# 📌 Step 2: Define a Decorator for Logging\n",
    "def logger(func):\n",
    "    \"\"\"A decorator that logs function execution.\"\"\"\n",
    "    def wrapper(*args, **kwargs):\n",
    "        print(f\"Executing {func.__name__}...\")\n",
    "        result = func(*args, **kwargs)\n",
    "        print(f\"Execution of {func.__name__} completed.\\n\")\n",
    "        return result\n",
    "    return wrapper"
   ]
  },
  {
   "cell_type": "code",
   "execution_count": 3,
   "metadata": {},
   "outputs": [],
   "source": [
    "# 📌 Step 3: Define a Function to Read a JSON File\n",
    "@logger\n",
    "def read_json(file_path: str) -> List[Dict]:\n",
    "    \"\"\"Reads data from a JSON file and returns it as a list of dictionaries.\"\"\"\n",
    "    try:\n",
    "        with open(file_path, \"r\") as file:\n",
    "            return json.load(file)\n",
    "    except FileNotFoundError:\n",
    "        print(\"File not found. Creating a new file with sample data.\")\n",
    "        sample_data = [\n",
    "            {\"name\": \"Alice\", \"age\": 25, \"country\": \"USA\"},\n",
    "            {\"name\": \"Bob\", \"age\": 30, \"country\": \"UK\"}\n",
    "        ]\n",
    "        write_json(file_path, sample_data)\n",
    "        return sample_data\n",
    "    except json.JSONDecodeError:\n",
    "        print(\"Error decoding JSON file.\")\n",
    "        return []"
   ]
  },
  {
   "cell_type": "code",
   "execution_count": 4,
   "metadata": {},
   "outputs": [],
   "source": [
    "# 📌 Step 4: Define a Function to Write Data to a JSON File\n",
    "@logger\n",
    "def write_json(file_path: str, data: List[Dict]):\n",
    "    \"\"\"Writes data to a JSON file.\"\"\"\n",
    "    with open(file_path, \"w\") as file:\n",
    "        json.dump(data, file, indent=4)\n"
   ]
  },
  {
   "cell_type": "code",
   "execution_count": 5,
   "metadata": {},
   "outputs": [],
   "source": [
    "# 📌 Step 5: Process Data using List Comprehensions and Functions\n",
    "@logger\n",
    "def process_data(data: List[Dict]) -> List[Dict]:\n",
    "    \"\"\"Processes the data by incrementing age and formatting names.\"\"\"\n",
    "    return [{\"name\": person[\"name\"].title(), \"age\": person[\"age\"] + 1, \"country\": person[\"country\"].upper()} for person in data]\n"
   ]
  },
  {
   "cell_type": "code",
   "execution_count": 6,
   "metadata": {},
   "outputs": [],
   "source": [
    "# 📌 Step 6: Define an Iterator to Retrieve Users One by One\n",
    "class UserIterator:\n",
    "    \"\"\"An iterator that yields users one by one.\"\"\"\n",
    "    def __init__(self, users: List[Dict]):\n",
    "        self.users = users\n",
    "        self.index = 0\n",
    "    \n",
    "    def __iter__(self):\n",
    "        return self\n",
    "    \n",
    "    def __next__(self):\n",
    "        if self.index >= len(self.users):\n",
    "            raise StopIteration\n",
    "        user = self.users[self.index]\n",
    "        self.index += 1\n",
    "        return user"
   ]
  },
  {
   "cell_type": "code",
   "execution_count": 7,
   "metadata": {},
   "outputs": [],
   "source": [
    "# 📌 Step 7: Define a Context Manager for File Handling\n",
    "class FileHandler:\n",
    "    \"\"\"A context manager for handling file operations.\"\"\"\n",
    "    def __init__(self, file_path, mode):\n",
    "        self.file_path = file_path\n",
    "        self.mode = mode\n",
    "    \n",
    "    def __enter__(self):\n",
    "        self.file = open(self.file_path, self.mode)\n",
    "        return self.file\n",
    "    \n",
    "    def __exit__(self, exc_type, exc_value, traceback):\n",
    "        self.file.close()"
   ]
  },
  {
   "cell_type": "code",
   "execution_count": 8,
   "metadata": {},
   "outputs": [],
   "source": [
    "# 📌 Step 8: Implement Main Execution Flow\n",
    "def main():\n",
    "    \"\"\"Main function to execute all steps in order.\"\"\"\n",
    "    file_path = \"users.json\"  # JSON file to store user data\n",
    "    \n",
    "    # Read user data from JSON file\n",
    "    users = read_json(file_path)\n",
    "    \n",
    "    # Process user data (capitalize names, increment ages, uppercase countries)\n",
    "    processed_users = process_data(users)\n",
    "    \n",
    "    # Write processed data back to JSON file\n",
    "    write_json(file_path, processed_users)\n",
    "    \n",
    "    # Use the iterator to print users one by one\n",
    "    user_iterator = UserIterator(processed_users)\n",
    "    print(\"\\nIterating through users:\")\n",
    "    for user in user_iterator:\n",
    "        print(user)\n",
    "    \n",
    "    # Use context manager to read the JSON file\n",
    "    print(\"\\nReading file using context manager:\")\n",
    "    with FileHandler(file_path, \"r\") as file:\n",
    "        print(file.read())"
   ]
  },
  {
   "cell_type": "code",
   "execution_count": 9,
   "metadata": {},
   "outputs": [
    {
     "name": "stdout",
     "output_type": "stream",
     "text": [
      "Executing read_json...\n",
      "Execution of read_json completed.\n",
      "\n",
      "Executing process_data...\n",
      "Execution of process_data completed.\n",
      "\n",
      "Executing write_json...\n",
      "Execution of write_json completed.\n",
      "\n",
      "\n",
      "Iterating through users:\n",
      "{'name': 'Alice', 'age': 27, 'country': 'USA'}\n",
      "{'name': 'Bob', 'age': 32, 'country': 'UK'}\n",
      "\n",
      "Reading file using context manager:\n",
      "[\n",
      "    {\n",
      "        \"name\": \"Alice\",\n",
      "        \"age\": 27,\n",
      "        \"country\": \"USA\"\n",
      "    },\n",
      "    {\n",
      "        \"name\": \"Bob\",\n",
      "        \"age\": 32,\n",
      "        \"country\": \"UK\"\n",
      "    }\n",
      "]\n"
     ]
    }
   ],
   "source": [
    "# Run the program\n",
    "if __name__ == \"__main__\":\n",
    "    main()"
   ]
  },
  {
   "cell_type": "markdown",
   "metadata": {},
   "source": [
    "# 🔹 Next Steps\n",
    "1️⃣ Run each cell in order and observe the output.  \n",
    "2️⃣ Modify the functions (e.g., add more fields to users).  \n",
    "3️⃣ Try creating new decorators or iterators based on this template.  \n",
    "4️⃣ Experiment with error handling by providing incorrect inputs.  "
   ]
  }
 ],
 "metadata": {
  "kernelspec": {
   "display_name": "Python 3",
   "language": "python",
   "name": "python3"
  },
  "language_info": {
   "codemirror_mode": {
    "name": "ipython",
    "version": 3
   },
   "file_extension": ".py",
   "mimetype": "text/x-python",
   "name": "python",
   "nbconvert_exporter": "python",
   "pygments_lexer": "ipython3",
   "version": "3.12.8"
  }
 },
 "nbformat": 4,
 "nbformat_minor": 2
}
