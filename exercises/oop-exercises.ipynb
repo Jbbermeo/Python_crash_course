{
 "cells": [
  {
   "cell_type": "markdown",
   "metadata": {},
   "source": [
    "\"\"\"\n",
    "# 🏆 Object-Oriented Programming (OOP) - Step-by-Step Exercise\n",
    "\n",
    "## 📌 Objective\n",
    "This Jupyter Notebook will guide you through a structured challenge where you will apply Object-Oriented Programming (OOP) concepts, including:\n",
    "- Classes and Objects\n",
    "- Attributes and Methods\n",
    "- Encapsulation\n",
    "- Special Methods\n",
    "- Inheritance\n",
    "- Polymorphism\n",
    "- Abstraction\n",
    "- Composition and Aggregation\n",
    "- Operator Overloading\n",
    "- Metaclasses\n",
    "\n",
    "By the end, you will have built a **basic Library Management System** using OOP principles.\n",
    "\n",
    "---\n",
    "\n",
    "## 📝 How to Use this Notebook\n",
    "1. Run each code cell step by step.\n",
    "2. Read the comments carefully to understand each concept.\n",
    "3. Modify and experiment with the code to test your understanding.\n",
    "4. Ensure you have **Python 3.x** installed and Jupyter Notebook set up.\n",
    "\n",
    "Let's get started!\n",
    "\"\"\""
   ]
  },
  {
   "cell_type": "code",
   "execution_count": 1,
   "metadata": {},
   "outputs": [],
   "source": [
    "# 📌 Step 1: Define a Basic Class and Object\n",
    "class Book:\n",
    "    \"\"\"A class representing a book.\"\"\"\n",
    "    def __init__(self, title: str, author: str, year: int):\n",
    "        self.title = title\n",
    "        self.author = author\n",
    "        self.year = year\n",
    "    \n",
    "    def get_info(self):\n",
    "        \"\"\"Returns a formatted string with book details.\"\"\"\n",
    "        return f\"{self.title} by {self.author}, published in {self.year}\""
   ]
  },
  {
   "cell_type": "code",
   "execution_count": 2,
   "metadata": {},
   "outputs": [
    {
     "name": "stdout",
     "output_type": "stream",
     "text": [
      "1984 by George Orwell, published in 1949\n"
     ]
    }
   ],
   "source": [
    "# Create an instance\n",
    "book1 = Book(\"1984\", \"George Orwell\", 1949)\n",
    "print(book1.get_info())"
   ]
  },
  {
   "cell_type": "code",
   "execution_count": 3,
   "metadata": {},
   "outputs": [],
   "source": [
    "# 📌 Step 2: Encapsulation - Using Private Attributes\n",
    "class User:\n",
    "    \"\"\"A class representing a library user.\"\"\"\n",
    "    def __init__(self, name: str, age: int):\n",
    "        self.__name = name  # Private attribute\n",
    "        self.__age = age  # Private attribute\n",
    "    \n",
    "    def get_user_info(self):\n",
    "        \"\"\"Returns user information.\"\"\"\n",
    "        return f\"User: {self.__name}, Age: {self.__age}\"\n",
    "    \n",
    "    def set_age(self, new_age: int):\n",
    "        \"\"\"Updates the user's age.\"\"\"\n",
    "        if new_age > 0:\n",
    "            self.__age = new_age\n",
    "        else:\n",
    "            print(\"Invalid age!\")"
   ]
  },
  {
   "cell_type": "code",
   "execution_count": 4,
   "metadata": {},
   "outputs": [
    {
     "name": "stdout",
     "output_type": "stream",
     "text": [
      "User: Alice, Age: 28\n"
     ]
    }
   ],
   "source": [
    "# Create an instance\n",
    "user1 = User(\"Alice\", 28)\n",
    "print(user1.get_user_info())"
   ]
  },
  {
   "cell_type": "code",
   "execution_count": 5,
   "metadata": {},
   "outputs": [],
   "source": [
    "# 📌 Step 3: Using Special Methods (__str__, __len__)\n",
    "class Library:\n",
    "    \"\"\"A class representing a library.\"\"\"\n",
    "    def __init__(self, name: str):\n",
    "        self.name = name\n",
    "        self.books = []  # List to store books\n",
    "    \n",
    "    def add_book(self, book: Book):\n",
    "        self.books.append(book)\n",
    "    \n",
    "    def __str__(self):\n",
    "        return f\"Library: {self.name} with {len(self.books)} books\"\n",
    "    \n",
    "    def __len__(self):\n",
    "        return len(self.books)"
   ]
  },
  {
   "cell_type": "code",
   "execution_count": 6,
   "metadata": {},
   "outputs": [
    {
     "name": "stdout",
     "output_type": "stream",
     "text": [
      "Library: City Library with 1 books\n",
      "Number of books: 1\n"
     ]
    }
   ],
   "source": [
    "# Create a library instance\n",
    "library = Library(\"City Library\")\n",
    "library.add_book(book1)\n",
    "print(library)\n",
    "print(f\"Number of books: {len(library)}\")"
   ]
  },
  {
   "cell_type": "code",
   "execution_count": 7,
   "metadata": {},
   "outputs": [],
   "source": [
    "# 📌 Step 4: Inheritance - Extending Functionality\n",
    "class EBook(Book):\n",
    "    \"\"\"A subclass of Book representing an E-Book.\"\"\"\n",
    "    def __init__(self, title, author, year, file_size):\n",
    "        super().__init__(title, author, year)\n",
    "        self.file_size = file_size\n",
    "    \n",
    "    def get_info(self):\n",
    "        \"\"\"Returns e-book details, including file size.\"\"\"\n",
    "        return super().get_info() + f\" (File size: {self.file_size}MB)\""
   ]
  },
  {
   "cell_type": "code",
   "execution_count": 8,
   "metadata": {},
   "outputs": [
    {
     "name": "stdout",
     "output_type": "stream",
     "text": [
      "Python Guide by John Doe, published in 2022 (File size: 5MB)\n"
     ]
    }
   ],
   "source": [
    "# Create an instance of EBook\n",
    "ebook1 = EBook(\"Python Guide\", \"John Doe\", 2022, 5)\n",
    "print(ebook1.get_info())"
   ]
  },
  {
   "cell_type": "code",
   "execution_count": 9,
   "metadata": {},
   "outputs": [],
   "source": [
    "# 📌 Step 5: Polymorphism - Overriding Methods\n",
    "class AudioBook(Book):\n",
    "    \"\"\"A subclass representing an audiobook.\"\"\"\n",
    "    def __init__(self, title, author, year, duration):\n",
    "        super().__init__(title, author, year)\n",
    "        self.duration = duration  # Duration in minutes\n",
    "    \n",
    "    def get_info(self):\n",
    "        \"\"\"Overrides get_info method to include duration.\"\"\"\n",
    "        return super().get_info() + f\" (Duration: {self.duration} min)\"\n"
   ]
  },
  {
   "cell_type": "code",
   "execution_count": 10,
   "metadata": {},
   "outputs": [
    {
     "name": "stdout",
     "output_type": "stream",
     "text": [
      "Learn Python by Jane Doe, published in 2023 (Duration: 300 min)\n"
     ]
    }
   ],
   "source": [
    "# Create an instance of AudioBook\n",
    "audiobook1 = AudioBook(\"Learn Python\", \"Jane Doe\", 2023, 300)\n",
    "print(audiobook1.get_info())"
   ]
  },
  {
   "cell_type": "code",
   "execution_count": 11,
   "metadata": {},
   "outputs": [],
   "source": [
    "# 📌 Step 6: Composition and Aggregation\n",
    "class LibraryMember:\n",
    "    \"\"\"A class representing a library member.\"\"\"\n",
    "    def __init__(self, user: User):\n",
    "        self.user = user\n",
    "        self.borrowed_books = []\n",
    "    \n",
    "    def borrow_book(self, book: Book):\n",
    "        self.borrowed_books.append(book)\n",
    "    \n",
    "    def get_borrowed_books(self):\n",
    "        return [book.get_info() for book in self.borrowed_books]"
   ]
  },
  {
   "cell_type": "code",
   "execution_count": 12,
   "metadata": {},
   "outputs": [
    {
     "name": "stdout",
     "output_type": "stream",
     "text": [
      "['1984 by George Orwell, published in 1949']\n"
     ]
    }
   ],
   "source": [
    "# Create a library member\n",
    "member1 = LibraryMember(user1)\n",
    "member1.borrow_book(book1)\n",
    "print(member1.get_borrowed_books())"
   ]
  },
  {
   "cell_type": "code",
   "execution_count": 13,
   "metadata": {},
   "outputs": [],
   "source": [
    "# 📌 Step 7: Operator Overloading\n",
    "class Rating:\n",
    "    \"\"\"A class to store book ratings.\"\"\"\n",
    "    def __init__(self, rating):\n",
    "        self.rating = rating\n",
    "    \n",
    "    def __add__(self, other):\n",
    "        return Rating(self.rating + other.rating)\n",
    "    \n",
    "    def __str__(self):\n",
    "        return f\"Rating: {self.rating}/5\""
   ]
  },
  {
   "cell_type": "code",
   "execution_count": 14,
   "metadata": {},
   "outputs": [
    {
     "name": "stdout",
     "output_type": "stream",
     "text": [
      "Rating: 9/5\n"
     ]
    }
   ],
   "source": [
    "# Create rating instances\n",
    "rating1 = Rating(4)\n",
    "rating2 = Rating(5)\n",
    "final_rating = rating1 + rating2\n",
    "print(final_rating)"
   ]
  },
  {
   "cell_type": "code",
   "execution_count": 15,
   "metadata": {},
   "outputs": [],
   "source": [
    "# 📌 Step 8: Implementing a Metaclass\n",
    "class MetaBook(type):\n",
    "    \"\"\"A metaclass for books.\"\"\"\n",
    "    def __new__(cls, name, bases, dct):\n",
    "        dct[\"category\"] = \"General\"\n",
    "        return super().__new__(cls, name, bases, dct)\n",
    "\n",
    "class SpecialBook(metaclass=MetaBook):\n",
    "    pass"
   ]
  },
  {
   "cell_type": "code",
   "execution_count": 16,
   "metadata": {},
   "outputs": [
    {
     "name": "stdout",
     "output_type": "stream",
     "text": [
      "General\n"
     ]
    }
   ],
   "source": [
    "# Check metaclass attribute\n",
    "print(SpecialBook.category)"
   ]
  },
  {
   "cell_type": "markdown",
   "metadata": {},
   "source": [
    "# 🔹 Next Steps\n",
    "1️⃣ Run each cell in order and observe the output.  \n",
    "2️⃣ Modify the classes (e.g., add more attributes or methods).  \n",
    "3️⃣ Try creating new subclasses based on these examples.  \n",
    "4️⃣ Experiment with operator overloading and metaclasses.  "
   ]
  }
 ],
 "metadata": {
  "kernelspec": {
   "display_name": "Python 3",
   "language": "python",
   "name": "python3"
  },
  "language_info": {
   "codemirror_mode": {
    "name": "ipython",
    "version": 3
   },
   "file_extension": ".py",
   "mimetype": "text/x-python",
   "name": "python",
   "nbconvert_exporter": "python",
   "pygments_lexer": "ipython3",
   "version": "3.12.8"
  }
 },
 "nbformat": 4,
 "nbformat_minor": 2
}
