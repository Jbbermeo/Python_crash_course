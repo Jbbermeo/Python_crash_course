{
 "cells": [
  {
   "cell_type": "markdown",
   "metadata": {},
   "source": [
    "\"\"\"\n",
    "# 🏆 Python Knowledge Assessment\n",
    "\n",
    "## 📌 Objective\n",
    "This script evaluates your Python knowledge through a multiple-choice quiz covering:\n",
    "- Core Python concepts (data types, functions, exception handling, file handling, etc.).\n",
    "- Object-Oriented Programming (OOP) concepts (classes, inheritance, encapsulation, etc.).\n",
    "\n",
    "You will be presented with multiple-choice questions and will receive instant feedback on your answers.\n",
    "\n",
    "---\n",
    "\n",
    "## 📝 How to Use this Notebook\n",
    "1. Ensure you have `ipywidgets` installed by running:\n",
    "   ```python\n",
    "   !pip install ipywidgets\n",
    "   ```\n",
    "2. Run the quiz by executing:\n",
    "   ```python\n",
    "   from main import run_quiz\n",
    "   run_quiz()\n",
    "   ```\n",
    "3. Answer each question interactively and check your final score at the end.\n",
    "\n",
    "Let's begin! 🚀\n",
    "\"\"\""
   ]
  },
  {
   "cell_type": "code",
   "execution_count": 1,
   "metadata": {},
   "outputs": [],
   "source": [
    "# !pip install ipywidgets "
   ]
  },
  {
   "cell_type": "code",
   "execution_count": null,
   "metadata": {},
   "outputs": [],
   "source": [
    "from main import run_quiz\n",
    "\n",
    "run_quiz()"
   ]
  }
 ],
 "metadata": {
  "kernelspec": {
   "display_name": "Python 3",
   "language": "python",
   "name": "python3"
  },
  "language_info": {
   "codemirror_mode": {
    "name": "ipython",
    "version": 3
   },
   "file_extension": ".py",
   "mimetype": "text/x-python",
   "name": "python",
   "nbconvert_exporter": "python",
   "pygments_lexer": "ipython3",
   "version": "3.12.8"
  }
 },
 "nbformat": 4,
 "nbformat_minor": 2
}
